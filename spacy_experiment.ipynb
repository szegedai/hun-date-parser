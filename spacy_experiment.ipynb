{
 "cells": [
  {
   "cell_type": "code",
   "execution_count": 1,
   "metadata": {},
   "outputs": [],
   "source": [
    "import pprint\n",
    "import huspacy\n",
    "\n",
    "# huspacy.download()"
   ]
  },
  {
   "cell_type": "code",
   "execution_count": 2,
   "metadata": {},
   "outputs": [],
   "source": [
    "from hun_date_parser.spacy_compatibility import HunDateParserComponent"
   ]
  },
  {
   "cell_type": "code",
   "execution_count": 3,
   "metadata": {},
   "outputs": [
    {
     "data": {
      "text/plain": [
       "<hun_date_parser.spacy_compatibility.hun_date_parser_component.HunDateParserComponent at 0x7f9ceaef20c0>"
      ]
     },
     "execution_count": 3,
     "metadata": {},
     "output_type": "execute_result"
    }
   ],
   "source": [
    "nlp = huspacy.load()\n",
    "nlp.add_pipe(\"hu_datetimes\", config={\"case_sensitive\": False})"
   ]
  },
  {
   "cell_type": "code",
   "execution_count": 4,
   "metadata": {},
   "outputs": [
    {
     "name": "stdout",
     "output_type": "stream",
     "text": [
      "[[{'start_date': datetime.datetime(2022, 3, 30, 12, 0), 'end_date': datetime.datetime(2022, 3, 30, 18, 59, 59)}]]\n"
     ]
    }
   ],
   "source": [
    "doc = nlp(\"Holnap délután esni fog, de szombaton már valószínüleg nem.\")\n",
    "print(doc._.hu_datetimes)"
   ]
  },
  {
   "cell_type": "code",
   "execution_count": 5,
   "metadata": {},
   "outputs": [
    {
     "name": "stdout",
     "output_type": "stream",
     "text": [
      "[[{'start_date': datetime.datetime(2022, 4, 30, 12, 0), 'end_date': datetime.datetime(2022, 4, 30, 18, 59, 59)}], [{'start_date': datetime.datetime(2022, 3, 30, 0, 0), 'end_date': datetime.datetime(2022, 3, 30, 23, 59, 59)}]]\n"
     ]
    }
   ],
   "source": [
    "doc = nlp(\"Holnap délután esni fog. de szombaton már valószínüleg nem.\")\n",
    "print(doc._.hu_datetimes)"
   ]
  },
  {
   "cell_type": "code",
   "execution_count": 6,
   "metadata": {},
   "outputs": [
    {
     "name": "stdout",
     "output_type": "stream",
     "text": [
      "[[{'end_date': datetime.datetime(2022, 4, 29, 18, 59, 59),\n",
      "   'start_date': datetime.datetime(2022, 4, 29, 12, 0)}]]\n"
     ]
    }
   ],
   "source": [
    "doc = nlp(\n",
    "    \"\"\"\n",
    "    Alapvetően gomolyfelhős, napos idő várható, de késő délutánig a délkeleti harmadban\n",
    "    sok lesz a felhő, majd ott is szakadozik a felhőtakaró.\n",
    "    \"\"\"\n",
    ")\n",
    "\n",
    "pprint.pprint(doc._.hu_datetimes)"
   ]
  },
  {
   "cell_type": "code",
   "execution_count": 7,
   "metadata": {},
   "outputs": [
    {
     "name": "stdout",
     "output_type": "stream",
     "text": [
      "[]\n"
     ]
    }
   ],
   "source": [
    "doc = nlp(\n",
    "    \"\"\"\n",
    "    A Tiszántúlon, illetve a Duna-Tisza közének déli részén többfelé valószínű eső, zápor,\n",
    "    esetleg az ég is megdörrenhet.\n",
    "    \"\"\"\n",
    ")\n",
    "pprint.pprint(doc._.hu_datetimes)"
   ]
  },
  {
   "cell_type": "code",
   "execution_count": 8,
   "metadata": {},
   "outputs": [
    {
     "name": "stdout",
     "output_type": "stream",
     "text": [
      "[[{'end_date': datetime.datetime(2022, 4, 29, 13, 59, 59),\n",
      "   'start_date': datetime.datetime(2022, 4, 29, 13, 0)}],\n",
      " [{'end_date': datetime.datetime(2022, 4, 29, 23, 59, 59),\n",
      "   'start_date': datetime.datetime(2022, 4, 29, 0, 0)}]]\n"
     ]
    }
   ],
   "source": [
    "doc = nlp(\n",
    "    \"\"\"\n",
    "    Másutt egy-egy zápor fordulhat csak elő.\n",
    "    Az éjszaka folyamán kiderül az ég,\n",
    "    de helyenként - főleg a Duna vonala menti összeáramlásban - gyengén felhős részek is maradhatnak.\n",
    "    Pénteken gomolyfelhős, napos idő lesz, jelentéktelen záporok keleten alakulhatnak ki.\n",
    "    \"\"\"\n",
    ")\n",
    "\n",
    "pprint.pprint(doc._.hu_datetimes)"
   ]
  },
  {
   "cell_type": "code",
   "execution_count": 9,
   "metadata": {},
   "outputs": [
    {
     "name": "stdout",
     "output_type": "stream",
     "text": [
      "[[{'end_date': datetime.datetime(2022, 4, 29, 15, 59, 59),\n",
      "   'start_date': datetime.datetime(2022, 4, 29, 15, 0)}],\n",
      " [{'end_date': datetime.datetime(2022, 4, 29, 17, 59, 59),\n",
      "   'start_date': datetime.datetime(2022, 4, 29, 17, 0)}]]\n"
     ]
    }
   ],
   "source": [
    "txt = \"\"\"\n",
    "    A legalacsonyabb éjszakai hőmérséklet általában 3 és 8 fok között várható.\n",
    "    A fagyzugos részeken gyenge fagy előfordulhat.\n",
    "    A legmagasabb nappali hőmérséklet pénteken 17 és 21 fok között alakul.\n",
    "    \"\"\"\n",
    "\n",
    "doc = nlp(txt)\n",
    "pprint.pprint(doc._.hu_datetimes)"
   ]
  }
 ],
 "metadata": {
  "kernelspec": {
   "display_name": "Python 3",
   "language": "python",
   "name": "python3"
  },
  "language_info": {
   "codemirror_mode": {
    "name": "ipython",
    "version": 3
   },
   "file_extension": ".py",
   "mimetype": "text/x-python",
   "name": "python",
   "nbconvert_exporter": "python",
   "pygments_lexer": "ipython3",
   "version": "3.8.5"
  }
 },
 "nbformat": 4,
 "nbformat_minor": 4
}
